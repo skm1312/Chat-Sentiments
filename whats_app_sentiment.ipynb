{
  "nbformat": 4,
  "nbformat_minor": 0,
  "metadata": {
    "colab": {
      "name": "whats-app-sentiment.ipynb",
      "provenance": [],
      "collapsed_sections": [],
      "authorship_tag": "ABX9TyPYlw2U/MSZxKWGj1QifMup"
    },
    "kernelspec": {
      "name": "python3",
      "display_name": "Python 3"
    },
    "language_info": {
      "name": "python"
    }
  },
  "cells": [
    {
      "cell_type": "code",
      "metadata": {
        "colab": {
          "base_uri": "https://localhost:8080/"
        },
        "id": "7isYWerUpONq",
        "outputId": "6acca336-b919-4437-b018-7555dbe5906d"
      },
      "source": [
        "!pip install emoji"
      ],
      "execution_count": 1,
      "outputs": [
        {
          "output_type": "stream",
          "text": [
            "Requirement already satisfied: emoji in /usr/local/lib/python3.7/dist-packages (1.4.1)\n"
          ],
          "name": "stdout"
        }
      ]
    },
    {
      "cell_type": "code",
      "metadata": {
        "id": "2f8x3npN22_G"
      },
      "source": [
        "import pandas as pd\n",
        "import regex as re\n",
        "import numpy as np\n",
        "import matplotlib.pyplot as plt\n",
        "import emoji\n",
        "import plotly.express as px\n",
        "from collections import defaultdict\n",
        "import nltk\n",
        "from collections import Counter"
      ],
      "execution_count": 2,
      "outputs": []
    },
    {
      "cell_type": "code",
      "metadata": {
        "colab": {
          "base_uri": "https://localhost:8080/"
        },
        "id": "0JtY7cUb_SDD",
        "outputId": "28e09bf9-fdb4-4c34-efa0-0a3269bf1434"
      },
      "source": [
        "nltk.download('nps_chat')\n",
        "nltk.download('punkt')"
      ],
      "execution_count": 3,
      "outputs": [
        {
          "output_type": "stream",
          "text": [
            "[nltk_data] Downloading package nps_chat to /root/nltk_data...\n",
            "[nltk_data]   Package nps_chat is already up-to-date!\n",
            "[nltk_data] Downloading package punkt to /root/nltk_data...\n",
            "[nltk_data]   Package punkt is already up-to-date!\n"
          ],
          "name": "stdout"
        },
        {
          "output_type": "execute_result",
          "data": {
            "text/plain": [
              "True"
            ]
          },
          "metadata": {
            "tags": []
          },
          "execution_count": 3
        }
      ]
    },
    {
      "cell_type": "code",
      "metadata": {
        "id": "uWhEHdV37HBr"
      },
      "source": [
        "myfile = open('chat.txt')\n",
        "content = myfile.read()\n",
        "chat = defaultdict(list)\n",
        "content = content.split('\\n')\n",
        "for line in content:\n",
        "  try:\n",
        "    person = line.split(':')[2][7:]\n",
        "    text = nltk.sent_tokenize(line.split(':')[3:][0])\n",
        "    chat[person].extend(text)\n",
        "  except:\n",
        "    pass"
      ],
      "execution_count": 4,
      "outputs": []
    },
    {
      "cell_type": "code",
      "metadata": {
        "id": "CUoXTapu-rQ4"
      },
      "source": [
        "def dateCheck(s):\n",
        "  pattern = '\\d{4}-\\d{2}-\\d{2}, (\\d{2}|\\d{1}):\\d{2}:\\d{2} (AM|PM|am|pm)'\n",
        "  result = re.search(pattern, s)\n",
        "  if result:\n",
        "    return result\n",
        "  return False"
      ],
      "execution_count": 5,
      "outputs": []
    },
    {
      "cell_type": "code",
      "metadata": {
        "colab": {
          "base_uri": "https://localhost:8080/"
        },
        "id": "RAiOTHHNBiuC",
        "outputId": "8cfd86d8-c3ac-4927-8395-a3f4502418a0"
      },
      "source": [
        "dateCheck('[2021-02-21, 10:59:44 PM] Krishna: Hi! Nice!')"
      ],
      "execution_count": 6,
      "outputs": [
        {
          "output_type": "execute_result",
          "data": {
            "text/plain": [
              "<regex.Match object; span=(1, 24), match='2021-02-21, 10:59:44 PM'>"
            ]
          },
          "metadata": {
            "tags": []
          },
          "execution_count": 6
        }
      ]
    },
    {
      "cell_type": "code",
      "metadata": {
        "id": "qOmPWoCe-UOq"
      },
      "source": [
        "posts = nltk.corpus.nps_chat.xml_posts()\n",
        "\n",
        "def extract_features(post):\n",
        "  features={}\n",
        "  for word in nltk.word_tokenize(post):\n",
        "    features['contains({})'.format(word.lower())]=True\n",
        "  return features\n",
        "\n",
        "fposts = [(extract_features(p.text),p.get('class')) for p in posts]\n",
        "test_size = int(len(fposts)*0.1)\n",
        "train_set,test_set = fposts[test_size:],fposts[:test_size]\n",
        "classifier = nltk.NaiveBayesClassifier.train(train_set)"
      ],
      "execution_count": 7,
      "outputs": []
    },
    {
      "cell_type": "code",
      "metadata": {
        "colab": {
          "base_uri": "https://localhost:8080/",
          "height": 35
        },
        "id": "Jush-k5WOhmL",
        "outputId": "8a753968-f6da-44bf-fe6b-b789d152bd67"
      },
      "source": [
        "classifier.classify(extract_features('What is your score'))"
      ],
      "execution_count": 8,
      "outputs": [
        {
          "output_type": "execute_result",
          "data": {
            "application/vnd.google.colaboratory.intrinsic+json": {
              "type": "string"
            },
            "text/plain": [
              "'whQuestion'"
            ]
          },
          "metadata": {
            "tags": []
          },
          "execution_count": 8
        }
      ]
    },
    {
      "cell_type": "code",
      "metadata": {
        "id": "C3G0wV9LAYOG",
        "colab": {
          "base_uri": "https://localhost:8080/"
        },
        "outputId": "dac88163-c6c9-466a-9ce5-6d9257167be3"
      },
      "source": [
        "#def emoji_used(str1):\n",
        "  #return ''.join(t for t in str1 if t in emoji.UNICODE_EMOJI)\n",
        "\n",
        "print(len(chat))\n",
        "for key, val in chat.items():\n",
        "  emojis = []\n",
        "  for text in val:\n",
        "    token = nltk.word_tokenize(text)\n",
        "    for temp in token:\n",
        "      if(temp in emoji.UNICODE_EMOJI_ENGLISH):\n",
        "        emojis.append(temp)\n",
        "  count = Counter(emojis).most_common()[:10]\n",
        "  print('{}s emojis:\\n{}\\n'.format(key,emojis))\n",
        "  print('Common: {}\\n\\n'.format(count))"
      ],
      "execution_count": 9,
      "outputs": [
        {
          "output_type": "stream",
          "text": [
            "2\n",
            "Harsh Patel Computer Sciences emojis:\n",
            "['👍', '👍', '👍', '👍', '👍🏻']\n",
            "\n",
            "Common: [('👍', 4), ('👍🏻', 1)]\n",
            "\n",
            "\n",
            "Krishnas emojis:\n",
            "['🙄', '🤣', '✌🏻', '😅', '👍🏻']\n",
            "\n",
            "Common: [('🙄', 1), ('🤣', 1), ('✌🏻', 1), ('😅', 1), ('👍🏻', 1)]\n",
            "\n",
            "\n"
          ],
          "name": "stdout"
        }
      ]
    }
  ]
}