{
  "nbformat": 4,
  "nbformat_minor": 0,
  "metadata": {
    "colab": {
      "name": "whats-app-sentiment.ipynb",
      "provenance": [],
      "collapsed_sections": [],
      "authorship_tag": "ABX9TyMRoq283sZINkPPGrs3qAeL"
    },
    "kernelspec": {
      "name": "python3",
      "display_name": "Python 3"
    },
    "language_info": {
      "name": "python"
    }
  },
  "cells": [
    {
      "cell_type": "code",
      "metadata": {
        "colab": {
          "base_uri": "https://localhost:8080/"
        },
        "id": "7isYWerUpONq",
        "outputId": "d28eee72-478f-4a94-e564-b03400e3ef6c"
      },
      "source": [
        "!pip install emoji"
      ],
      "execution_count": 1,
      "outputs": [
        {
          "output_type": "stream",
          "text": [
            "Requirement already satisfied: emoji in /usr/local/lib/python3.7/dist-packages (1.4.1)\n"
          ],
          "name": "stdout"
        }
      ]
    },
    {
      "cell_type": "code",
      "metadata": {
        "id": "2f8x3npN22_G"
      },
      "source": [
        "import pandas as pd\n",
        "import regex as re\n",
        "import numpy as np\n",
        "import matplotlib.pyplot as plt\n",
        "import emoji\n",
        "import plotly.express as px\n",
        "from collections import defaultdict\n",
        "import nltk\n",
        "from collections import Counter"
      ],
      "execution_count": 2,
      "outputs": []
    },
    {
      "cell_type": "code",
      "metadata": {
        "colab": {
          "base_uri": "https://localhost:8080/"
        },
        "id": "0JtY7cUb_SDD",
        "outputId": "e7ae1b39-f75c-42d4-a5ab-67579ccaa8ef"
      },
      "source": [
        "nltk.download('nps_chat')\n",
        "nltk.download('punkt')"
      ],
      "execution_count": 3,
      "outputs": [
        {
          "output_type": "stream",
          "text": [
            "[nltk_data] Downloading package nps_chat to /root/nltk_data...\n",
            "[nltk_data]   Package nps_chat is already up-to-date!\n",
            "[nltk_data] Downloading package punkt to /root/nltk_data...\n",
            "[nltk_data]   Package punkt is already up-to-date!\n"
          ],
          "name": "stdout"
        },
        {
          "output_type": "execute_result",
          "data": {
            "text/plain": [
              "True"
            ]
          },
          "metadata": {
            "tags": []
          },
          "execution_count": 3
        }
      ]
    },
    {
      "cell_type": "code",
      "metadata": {
        "id": "uWhEHdV37HBr"
      },
      "source": [
        "myfile = open('chat.txt')\n",
        "content = myfile.read()\n",
        "chat = defaultdict(list)\n",
        "content = content.split('\\n')\n",
        "for line in content:\n",
        "  try:\n",
        "    person = line.split(':')[2][7:]\n",
        "    text = nltk.sent_tokenize(line.split(':')[3:][0])\n",
        "    chat[person].extend(text)\n",
        "  except:\n",
        "    pass"
      ],
      "execution_count": 4,
      "outputs": []
    },
    {
      "cell_type": "code",
      "metadata": {
        "id": "CUoXTapu-rQ4"
      },
      "source": [
        "def dateCheck(s):\n",
        "  pattern = '\\d{4}-\\d{2}-\\d{2}, (\\d{2}|\\d{1}):\\d{2}:\\d{2} (AM|PM|am|pm)'\n",
        "  result = re.search(pattern, s)\n",
        "  if result:\n",
        "    return result\n",
        "  return False"
      ],
      "execution_count": 5,
      "outputs": []
    },
    {
      "cell_type": "code",
      "metadata": {
        "colab": {
          "base_uri": "https://localhost:8080/"
        },
        "id": "RAiOTHHNBiuC",
        "outputId": "575e344e-575a-45f0-a1fb-e7d0666d6126"
      },
      "source": [
        "dateCheck('[2021-02-21, 10:59:44 PM] Krishna: Hi! Nice!')"
      ],
      "execution_count": 6,
      "outputs": [
        {
          "output_type": "execute_result",
          "data": {
            "text/plain": [
              "<regex.Match object; span=(1, 24), match='2021-02-21, 10:59:44 PM'>"
            ]
          },
          "metadata": {
            "tags": []
          },
          "execution_count": 6
        }
      ]
    },
    {
      "cell_type": "code",
      "metadata": {
        "id": "8YFYTrnwOD-I"
      },
      "source": [
        "def getDataPoint(line):   \n",
        "    splitLine = line.split(' - ') \n",
        "    dateTime = splitLine[0]\n",
        "    date, time = dateTime[:dateTime.find(',')][1:],dateTime[dateTime.find(','):][1:]\n",
        "    date =re.sub('\\D', ' ', date).strip()\n",
        "    date = date.replace(' ', '-') \n",
        "    time, author = time[:time.find(']')],time[time.find(']'):][1:]\n",
        "    author, message = author[:author.find(':')],author[author.find(':'):][1:]\n",
        "    return date, time.strip(), author.strip(), message.strip()"
      ],
      "execution_count": 7,
      "outputs": []
    },
    {
      "cell_type": "code",
      "metadata": {
        "id": "qez-WtvgOO89"
      },
      "source": [
        "data = []\n",
        "conversation = 'chat.txt'\n",
        "with open(conversation, encoding=\"utf-8\") as fp:\n",
        "    fp.readline()\n",
        "    messageBuffer = []\n",
        "    parsedData = [] \n",
        "    date, time, author = None, None, None\n",
        "    while True:\n",
        "        line = fp.readline() \n",
        "        if not line: \n",
        "            break\n",
        "        line = line.strip() \n",
        "        if dateCheck(line): \n",
        "            if len(messageBuffer) > 0: \n",
        "                parsedData.append([date, time, author, ' '.join(messageBuffer)]) \n",
        "            messageBuffer.clear()\n",
        "            date, time, author, message = getDataPoint(line) \n",
        "            messageBuffer.append(message)\n",
        "        else:\n",
        "            messageBuffer.append(line)"
      ],
      "execution_count": 8,
      "outputs": []
    },
    {
      "cell_type": "code",
      "metadata": {
        "id": "qOmPWoCe-UOq"
      },
      "source": [
        "posts = nltk.corpus.nps_chat.xml_posts()\n",
        "\n",
        "def extract_features(post):\n",
        "  features={}\n",
        "  for word in nltk.word_tokenize(post):\n",
        "    features['contains({})'.format(word.lower())]=True\n",
        "  return features\n",
        "\n",
        "fposts = [(extract_features(p.text),p.get('class')) for p in posts]\n",
        "test_size = int(len(fposts)*0.1)\n",
        "train_set,test_set = fposts[test_size:],fposts[:test_size]\n",
        "classifier = nltk.NaiveBayesClassifier.train(train_set)"
      ],
      "execution_count": 9,
      "outputs": []
    },
    {
      "cell_type": "code",
      "metadata": {
        "id": "Jush-k5WOhmL",
        "colab": {
          "base_uri": "https://localhost:8080/",
          "height": 35
        },
        "outputId": "4b38ae88-6624-4096-f6e1-988ba436cc93"
      },
      "source": [
        "classifier.classify(extract_features('What is your score'))"
      ],
      "execution_count": 10,
      "outputs": [
        {
          "output_type": "execute_result",
          "data": {
            "application/vnd.google.colaboratory.intrinsic+json": {
              "type": "string"
            },
            "text/plain": [
              "'whQuestion'"
            ]
          },
          "metadata": {
            "tags": []
          },
          "execution_count": 10
        }
      ]
    },
    {
      "cell_type": "code",
      "metadata": {
        "id": "C3G0wV9LAYOG",
        "colab": {
          "base_uri": "https://localhost:8080/"
        },
        "outputId": "9ee8c76f-490f-4f0a-c080-eee7424aa2de"
      },
      "source": [
        "#def emoji_used(str1):\n",
        "  #return ''.join(t for t in str1 if t in emoji.UNICODE_EMOJI)\n",
        "\n",
        "print(len(chat))\n",
        "for key, val in chat.items():\n",
        "  emojis = []\n",
        "  for text in val:\n",
        "    token = nltk.word_tokenize(text)\n",
        "    for temp in token:\n",
        "      if(temp in emoji.UNICODE_EMOJI_ENGLISH):\n",
        "        emojis.append(temp)\n",
        "  count = Counter(emojis).most_common()[:10]\n",
        "  print('{}s emojis:\\n{}\\n'.format(key,emojis))\n",
        "  print('Common: {}\\n\\n'.format(count))"
      ],
      "execution_count": 11,
      "outputs": [
        {
          "output_type": "stream",
          "text": [
            "2\n",
            "Harsh Patel Computer Sciences emojis:\n",
            "['👍', '👍', '👍', '👍', '👍🏻']\n",
            "\n",
            "Common: [('👍', 4), ('👍🏻', 1)]\n",
            "\n",
            "\n",
            "Krishnas emojis:\n",
            "['🙄', '🤣', '✌🏻', '😅', '👍🏻']\n",
            "\n",
            "Common: [('🙄', 1), ('🤣', 1), ('✌🏻', 1), ('😅', 1), ('👍🏻', 1)]\n",
            "\n",
            "\n"
          ],
          "name": "stdout"
        }
      ]
    },
    {
      "cell_type": "code",
      "metadata": {
        "id": "bOQrFUojNdEc",
        "colab": {
          "base_uri": "https://localhost:8080/",
          "height": 203
        },
        "outputId": "3a269ca0-3ee5-4824-eff0-e6e57edbc11f"
      },
      "source": [
        "df = pd.DataFrame(parsedData, columns=['Date','Time','Author','Message'])\n",
        "df.tail()\n",
        "#df.to_csv('test_data.csv')"
      ],
      "execution_count": 13,
      "outputs": [
        {
          "output_type": "execute_result",
          "data": {
            "text/html": [
              "<div>\n",
              "<style scoped>\n",
              "    .dataframe tbody tr th:only-of-type {\n",
              "        vertical-align: middle;\n",
              "    }\n",
              "\n",
              "    .dataframe tbody tr th {\n",
              "        vertical-align: top;\n",
              "    }\n",
              "\n",
              "    .dataframe thead th {\n",
              "        text-align: right;\n",
              "    }\n",
              "</style>\n",
              "<table border=\"1\" class=\"dataframe\">\n",
              "  <thead>\n",
              "    <tr style=\"text-align: right;\">\n",
              "      <th></th>\n",
              "      <th>Date</th>\n",
              "      <th>Time</th>\n",
              "      <th>Author</th>\n",
              "      <th>Message</th>\n",
              "    </tr>\n",
              "  </thead>\n",
              "  <tbody>\n",
              "    <tr>\n",
              "      <th>1077</th>\n",
              "      <td>2021-05-04</td>\n",
              "      <td>11:46:14 AM</td>\n",
              "      <td>Harsh Patel Computer Science</td>\n",
              "      <td>I mean project or some research</td>\n",
              "    </tr>\n",
              "    <tr>\n",
              "      <th>1078</th>\n",
              "      <td>2021-05-04</td>\n",
              "      <td>11:47:18 AM</td>\n",
              "      <td>Krishna</td>\n",
              "      <td>Research itself</td>\n",
              "    </tr>\n",
              "    <tr>\n",
              "      <th>1079</th>\n",
              "      <td>2021-05-04</td>\n",
              "      <td>11:50:43 AM</td>\n",
              "      <td>Harsh Patel Computer Science</td>\n",
              "      <td>Ok</td>\n",
              "    </tr>\n",
              "    <tr>\n",
              "      <th>1080</th>\n",
              "      <td>2021-05-16</td>\n",
              "      <td>8:08:25 PM</td>\n",
              "      <td>Krishna</td>\n",
              "      <td>CS_802_Programming_Assignment.pdf • ‎1 page ‎d...</td>\n",
              "    </tr>\n",
              "    <tr>\n",
              "      <th>1081</th>\n",
              "      <td>2021-05-16</td>\n",
              "      <td>8:08:51 PM</td>\n",
              "      <td>Harsh Patel Computer Science</td>\n",
              "      <td>Thanks bro</td>\n",
              "    </tr>\n",
              "  </tbody>\n",
              "</table>\n",
              "</div>"
            ],
            "text/plain": [
              "            Date  ...                                            Message\n",
              "1077  2021-05-04  ...                    I mean project or some research\n",
              "1078  2021-05-04  ...                                    Research itself\n",
              "1079  2021-05-04  ...                                                 Ok\n",
              "1080  2021-05-16  ...  CS_802_Programming_Assignment.pdf • ‎1 page ‎d...\n",
              "1081  2021-05-16  ...                                         Thanks bro\n",
              "\n",
              "[5 rows x 4 columns]"
            ]
          },
          "metadata": {
            "tags": []
          },
          "execution_count": 13
        }
      ]
    }
  ]
}