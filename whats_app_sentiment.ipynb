{
  "nbformat": 4,
  "nbformat_minor": 0,
  "metadata": {
    "colab": {
      "name": "whats-app-sentiment.ipynb",
      "provenance": [],
      "collapsed_sections": [],
      "authorship_tag": "ABX9TyMcfU3RHnD3D+ruLL+F0xZc"
    },
    "kernelspec": {
      "name": "python3",
      "display_name": "Python 3"
    },
    "language_info": {
      "name": "python"
    }
  },
  "cells": [
    {
      "cell_type": "code",
      "metadata": {
        "id": "2f8x3npN22_G"
      },
      "source": [
        "import pandas as pd\n",
        "import regex as re\n",
        "import numpy as np\n",
        "import matplotlib.pyplot as plt\n",
        "import emoji\n",
        "import plotly.express as px\n",
        "from collections import defaultdict\n",
        "import nltk"
      ],
      "execution_count": 11,
      "outputs": []
    },
    {
      "cell_type": "code",
      "metadata": {
        "id": "uWhEHdV37HBr"
      },
      "source": [
        "myfile = open('chat.txt')\n",
        "content = myfile.read()\n",
        "chat = defaultdict(list)\n",
        "for line in content:\n",
        "  try:\n",
        "    person = line.split(':')[2][7:]\n",
        "    text = nltk.sent_tokenize(':'.join(line.split(':')[3:]))\n",
        "    chat[person].extend(text)\n",
        "  except:\n",
        "    pass"
      ],
      "execution_count": 16,
      "outputs": []
    },
    {
      "cell_type": "code",
      "metadata": {
        "id": "qOmPWoCe-UOq"
      },
      "source": [
        "posts = nltk.corpus.nps_chat.xml_posts()\n",
        "\n",
        "def extract_features(post):\n",
        "  features={}\n",
        "  for word in nltk.word_tokenize(post):\n",
        "    features['contains({})'.format(word.lower())]=True\n",
        "  return features\n",
        "\n",
        "fposts = [(extract_features(p.text),p.get('class')) for p in posts]\n",
        "test_size = int(len(fposts)*0.1)\n",
        "train_set,test_set = fposts[test_size:],fposts[:test_size]\n",
        "classifier = nltk.NaiveBayesClassifier.train(train_set)"
      ],
      "execution_count": 21,
      "outputs": []
    },
    {
      "cell_type": "code",
      "metadata": {
        "colab": {
          "base_uri": "https://localhost:8080/",
          "height": 203
        },
        "id": "C3G0wV9LAYOG",
        "outputId": "1930e6c9-9c84-4025-af17-3f68fc6b6491"
      },
      "source": [
        "df= pd.read_csv('chat.txt', names=['Date','Message','Col1','Col2'])\n",
        "#map = df.T.plot(kind = 'bar', figsize=(7,5), legend = True, fontsize = 12, color=['b','g'])\n",
        "df.head()"
      ],
      "execution_count": 41,
      "outputs": [
        {
          "output_type": "execute_result",
          "data": {
            "text/html": [
              "<div>\n",
              "<style scoped>\n",
              "    .dataframe tbody tr th:only-of-type {\n",
              "        vertical-align: middle;\n",
              "    }\n",
              "\n",
              "    .dataframe tbody tr th {\n",
              "        vertical-align: top;\n",
              "    }\n",
              "\n",
              "    .dataframe thead th {\n",
              "        text-align: right;\n",
              "    }\n",
              "</style>\n",
              "<table border=\"1\" class=\"dataframe\">\n",
              "  <thead>\n",
              "    <tr style=\"text-align: right;\">\n",
              "      <th></th>\n",
              "      <th>Date</th>\n",
              "      <th>Message</th>\n",
              "      <th>Col1</th>\n",
              "      <th>Col2</th>\n",
              "    </tr>\n",
              "  </thead>\n",
              "  <tbody>\n",
              "    <tr>\n",
              "      <th>0</th>\n",
              "      <td>[2021-02-21</td>\n",
              "      <td>10:59:44 PM] Harsh Patel Computer Science: ‎M...</td>\n",
              "      <td>not even WhatsApp</td>\n",
              "      <td>can read or listen to them.</td>\n",
              "    </tr>\n",
              "    <tr>\n",
              "      <th>1</th>\n",
              "      <td>[2021-02-21</td>\n",
              "      <td>10:59:44 PM] Harsh Patel Computer Science: Hi...</td>\n",
              "      <td>NaN</td>\n",
              "      <td>NaN</td>\n",
              "    </tr>\n",
              "    <tr>\n",
              "      <th>2</th>\n",
              "      <td>[2021-02-22</td>\n",
              "      <td>1:50:19 AM] Krishna: Hi! Nice!</td>\n",
              "      <td>NaN</td>\n",
              "      <td>NaN</td>\n",
              "    </tr>\n",
              "    <tr>\n",
              "      <th>3</th>\n",
              "      <td>[2021-02-22</td>\n",
              "      <td>2:09:09 AM] Harsh Patel Computer Science: Do ...</td>\n",
              "      <td>NaN</td>\n",
              "      <td>NaN</td>\n",
              "    </tr>\n",
              "    <tr>\n",
              "      <th>4</th>\n",
              "      <td>[2021-02-22</td>\n",
              "      <td>2:10:08 AM] Harsh Patel Computer Science: I m...</td>\n",
              "      <td>NaN</td>\n",
              "      <td>NaN</td>\n",
              "    </tr>\n",
              "  </tbody>\n",
              "</table>\n",
              "</div>"
            ],
            "text/plain": [
              "          Date  ...                          Col2\n",
              "0  [2021-02-21  ...   can read or listen to them.\n",
              "1  [2021-02-21  ...                           NaN\n",
              "2  [2021-02-22  ...                           NaN\n",
              "3  [2021-02-22  ...                           NaN\n",
              "4  [2021-02-22  ...                           NaN\n",
              "\n",
              "[5 rows x 4 columns]"
            ]
          },
          "metadata": {
            "tags": []
          },
          "execution_count": 41
        }
      ]
    }
  ]
}